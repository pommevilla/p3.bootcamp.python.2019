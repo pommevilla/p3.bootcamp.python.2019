{
 "cells": [
  {
   "cell_type": "markdown",
   "metadata": {},
   "source": [
    "# Introduction to Python"
   ]
  },
  {
   "cell_type": "markdown",
   "metadata": {},
   "source": [
    "## Section 1: Python Basics\n",
    "\n",
    "Let's get started by typing some stuff into the console and seeing what happens.\n",
    "\n",
    "### Section 1.1: Arithmetic\n",
    "\n",
    "One of the basic things you can do with the Python console is use it as a calculator.  Type the commands you see in the cells marked `In` into your console and press `Enter`; your output should match the `Out` cell directly beneath it."
   ]
  },
  {
   "cell_type": "code",
   "execution_count": 1,
   "metadata": {},
   "outputs": [
    {
     "data": {
      "text/plain": [
       "4"
      ]
     },
     "execution_count": 1,
     "metadata": {},
     "output_type": "execute_result"
    }
   ],
   "source": [
    "1 + 3 "
   ]
  },
  {
   "cell_type": "code",
   "execution_count": 2,
   "metadata": {},
   "outputs": [
    {
     "data": {
      "text/plain": [
       "945"
      ]
     },
     "execution_count": 2,
     "metadata": {},
     "output_type": "execute_result"
    }
   ],
   "source": [
    "27 * 35"
   ]
  },
  {
   "cell_type": "code",
   "execution_count": 3,
   "metadata": {},
   "outputs": [
    {
     "data": {
      "text/plain": [
       "0.5"
      ]
     },
     "execution_count": 3,
     "metadata": {},
     "output_type": "execute_result"
    }
   ],
   "source": [
    "1/2"
   ]
  },
  {
   "cell_type": "markdown",
   "metadata": {},
   "source": [
    "Python follows the order of operations that you are used to from math:"
   ]
  },
  {
   "cell_type": "code",
   "execution_count": 4,
   "metadata": {},
   "outputs": [
    {
     "data": {
      "text/plain": [
       "76"
      ]
     },
     "execution_count": 4,
     "metadata": {},
     "output_type": "execute_result"
    }
   ],
   "source": [
    "1 + 3 * 5 ** 2"
   ]
  },
  {
   "cell_type": "code",
   "execution_count": 5,
   "metadata": {},
   "outputs": [
    {
     "data": {
      "text/plain": [
       "100"
      ]
     },
     "execution_count": 5,
     "metadata": {},
     "output_type": "execute_result"
    }
   ],
   "source": [
    "(1 + 3) * 5 ** 2"
   ]
  },
  {
   "cell_type": "markdown",
   "metadata": {},
   "source": [
    "You can also save values to variables and use them to perform arithmetic:"
   ]
  },
  {
   "cell_type": "code",
   "execution_count": 6,
   "metadata": {},
   "outputs": [
    {
     "data": {
      "text/plain": [
       "10"
      ]
     },
     "execution_count": 6,
     "metadata": {},
     "output_type": "execute_result"
    }
   ],
   "source": [
    "a = 2\n",
    "b = 4\n",
    "a + 2 * b"
   ]
  },
  {
   "cell_type": "markdown",
   "metadata": {},
   "source": [
    "There is also the modulus operator `%`.  Entering `a % b` returns the remainder when `a` is divided by `b`."
   ]
  },
  {
   "cell_type": "code",
   "execution_count": 7,
   "metadata": {},
   "outputs": [
    {
     "data": {
      "text/plain": [
       "2"
      ]
     },
     "execution_count": 7,
     "metadata": {},
     "output_type": "execute_result"
    }
   ],
   "source": [
    "20 % 3"
   ]
  },
  {
   "cell_type": "code",
   "execution_count": 8,
   "metadata": {},
   "outputs": [
    {
     "data": {
      "text/plain": [
       "3"
      ]
     },
     "execution_count": 8,
     "metadata": {},
     "output_type": "execute_result"
    }
   ],
   "source": [
    "3 % 7"
   ]
  },
  {
   "cell_type": "markdown",
   "metadata": {},
   "source": [
    "#### Exercise 1.1\n",
    "\n",
    "* How can you tell when a number is divisible by 10?\n",
    "* How can you tell when a number is divisible by 3?\n",
    "* How can you tell when a number is even?  "
   ]
  },
  {
   "cell_type": "markdown",
   "metadata": {},
   "source": [
    "### Section 1.2: Strings\n",
    "\n",
    "A string in Python is a bunch of characters enclosed in quotes:"
   ]
  },
  {
   "cell_type": "code",
   "execution_count": 9,
   "metadata": {},
   "outputs": [
    {
     "data": {
      "text/plain": [
       "'Paul Edouard Villanueva'"
      ]
     },
     "execution_count": 9,
     "metadata": {},
     "output_type": "execute_result"
    }
   ],
   "source": [
    "my_name = \"Paul Edouard Villanueva\"\n",
    "my_name"
   ]
  },
  {
   "cell_type": "markdown",
   "metadata": {},
   "source": [
    "You can think of a Python string as an array of characters.  You can access the individual characters in the string by using indexing.  For example, to access the first character of a string, you do..."
   ]
  },
  {
   "cell_type": "code",
   "execution_count": 10,
   "metadata": {},
   "outputs": [
    {
     "data": {
      "text/plain": [
       "'P'"
      ]
     },
     "execution_count": 10,
     "metadata": {},
     "output_type": "execute_result"
    }
   ],
   "source": [
    "my_name[0]"
   ]
  },
  {
   "cell_type": "markdown",
   "metadata": {},
   "source": [
    "Note that the first character in the string is at index `0`.  Python (and most programming languages) index beginning at `0`.  So, to get the character at position `n`, you would index at position `n - 1`:"
   ]
  },
  {
   "cell_type": "code",
   "execution_count": 11,
   "metadata": {},
   "outputs": [
    {
     "data": {
      "text/plain": [
       "'E'"
      ]
     },
     "execution_count": 11,
     "metadata": {},
     "output_type": "execute_result"
    }
   ],
   "source": [
    "my_name[5]"
   ]
  },
  {
   "cell_type": "markdown",
   "metadata": {},
   "source": [
    "Note that white spaces count as a character, too.  \n",
    "\n",
    "We can see how long a string is by passing it to the `len()` function..."
   ]
  },
  {
   "cell_type": "code",
   "execution_count": 12,
   "metadata": {},
   "outputs": [
    {
     "data": {
      "text/plain": [
       "23"
      ]
     },
     "execution_count": 12,
     "metadata": {},
     "output_type": "execute_result"
    }
   ],
   "source": [
    "len(my_name)"
   ]
  },
  {
   "cell_type": "markdown",
   "metadata": {},
   "source": [
    "...and we can use this information to access the last character in the string:"
   ]
  },
  {
   "cell_type": "code",
   "execution_count": 1,
   "metadata": {},
   "outputs": [
    {
     "ename": "NameError",
     "evalue": "name 'my_name' is not defined",
     "output_type": "error",
     "traceback": [
      "\u001b[0;31m---------------------------------------------------------------------------\u001b[0m",
      "\u001b[0;31mNameError\u001b[0m                                 Traceback (most recent call last)",
      "\u001b[0;32m<ipython-input-1-83aa80b6d1eb>\u001b[0m in \u001b[0;36m<module>\u001b[0;34m()\u001b[0m\n\u001b[0;32m----> 1\u001b[0;31m \u001b[0mmy_name\u001b[0m\u001b[0;34m[\u001b[0m\u001b[0mlen\u001b[0m\u001b[0;34m(\u001b[0m\u001b[0mmy_name\u001b[0m\u001b[0;34m)\u001b[0m\u001b[0;34m]\u001b[0m\u001b[0;34m\u001b[0m\u001b[0m\n\u001b[0m",
      "\u001b[0;31mNameError\u001b[0m: name 'my_name' is not defined"
     ]
    }
   ],
   "source": [
    "my_name[len(my_name)]"
   ]
  },
  {
   "cell_type": "markdown",
   "metadata": {},
   "source": [
    "Looks like that didn't work.  Read the error - what happened?  Why?  How do we fix it?  \n",
    "\n",
    "We can also access elements of the string by using negative indexing:"
   ]
  },
  {
   "cell_type": "code",
   "execution_count": 14,
   "metadata": {},
   "outputs": [
    {
     "data": {
      "text/plain": [
       "'a'"
      ]
     },
     "execution_count": 14,
     "metadata": {},
     "output_type": "execute_result"
    }
   ],
   "source": [
    "my_name[-1]"
   ]
  },
  {
   "cell_type": "markdown",
   "metadata": {},
   "source": [
    "Putting a negative sign in front of the index counts that many indices back from the last character in the array.  Thus, putting `[-1]` will give the last character, `[-2]` the second to the last, etc.  See below for the two different indices you can use to access a character in `my_name`:\n",
    "\n",
    "| P | a | u | l |   | E | d | o | u | a | r  | d  |    | V  | i  | l  | l  | a  | n  | u  | e  | v  | a  |\n",
    "|---|---|---|---|---|---|---|---|---|---|----|----|----|----|----|----|----|----|----|----|----|----|----|\n",
    "| 0 | 1 | 2 | 3 | 4 | 5 | 6 | 7 | 8 | 9 | 10 | 11 | 12 | 13 | 14 | 15 | 16 | 17 | 18 | 19 | 20 | 21 | 22 |\n",
    "|-23|-22|-21|-20|-19|-18|-17|-16|-15|-14|-13 |-12 |-11 |-10 | -9 | -8 | -7 | -6 | -5 | -4 | -3 | -2 | -1 |"
   ]
  },
  {
   "cell_type": "markdown",
   "metadata": {},
   "source": [
    "We can also use slicing to subset the string:"
   ]
  },
  {
   "cell_type": "code",
   "execution_count": 15,
   "metadata": {},
   "outputs": [
    {
     "data": {
      "text/plain": [
       "'Paul'"
      ]
     },
     "execution_count": 15,
     "metadata": {},
     "output_type": "execute_result"
    }
   ],
   "source": [
    "my_name[0:4]"
   ]
  },
  {
   "cell_type": "markdown",
   "metadata": {},
   "source": [
    "Entering `str[start:end]` will return the substring of `str` starting from index `start` and ending at index `end - 1`.  Because a string is returned, you can perform any of the operations you've done before on the substring: "
   ]
  },
  {
   "cell_type": "code",
   "execution_count": 16,
   "metadata": {},
   "outputs": [
    {
     "data": {
      "text/plain": [
       "'Edouard'"
      ]
     },
     "execution_count": 16,
     "metadata": {},
     "output_type": "execute_result"
    }
   ],
   "source": [
    "my_name[5:12]"
   ]
  },
  {
   "cell_type": "code",
   "execution_count": 17,
   "metadata": {},
   "outputs": [
    {
     "data": {
      "text/plain": [
       "7"
      ]
     },
     "execution_count": 17,
     "metadata": {},
     "output_type": "execute_result"
    }
   ],
   "source": [
    "len(my_name[5:12])"
   ]
  },
  {
   "cell_type": "markdown",
   "metadata": {},
   "source": [
    "Slice indexing also has a third argument called the step size.  Giving a step size of `n` will tell Python to return every `n`th character.  By default, the step size is `1`.  So, the full slice operator syntax is `str[start:end:step_size]`.  For example: "
   ]
  },
  {
   "cell_type": "code",
   "execution_count": 18,
   "metadata": {},
   "outputs": [
    {
     "data": {
      "text/plain": [
       "'Pu du'"
      ]
     },
     "execution_count": 18,
     "metadata": {},
     "output_type": "execute_result"
    }
   ],
   "source": [
    "my_name[0:10:2]"
   ]
  },
  {
   "cell_type": "markdown",
   "metadata": {},
   "source": [
    "We printed out every other character from the first 10 characters in `my_name`.  If you leave `start` and `stop` blank, Python assumes `start = 0` and `stop = -1`, respectively.  So, we can do:"
   ]
  },
  {
   "cell_type": "code",
   "execution_count": 19,
   "metadata": {},
   "outputs": [
    {
     "data": {
      "text/plain": [
       "'Pu dur ilnea'"
      ]
     },
     "execution_count": 19,
     "metadata": {},
     "output_type": "execute_result"
    }
   ],
   "source": [
    "my_name[::2]"
   ]
  },
  {
   "cell_type": "markdown",
   "metadata": {},
   "source": [
    "#### Exercise 1.2\n",
    "\n",
    "Make a string with your full name and do the following problems.  Use [the Python 3.6 docs][py-3.6-docs] if you get stuck:\n",
    "\n",
    "* Print the first half of your name (without counting!)\n",
    "* Print the second half of your name\n",
    "* Separate your name into first, middle, and last names\n",
    "* Print out every third character\n",
    "* Reverse your name\n",
    "\n",
    "[py-3.6-docs]: https://docs.python.org/3.6/"
   ]
  },
  {
   "cell_type": "markdown",
   "metadata": {},
   "source": [
    "### Section 1.3: Lists\n",
    "\n",
    "In the exercises for the last section, you used `split` to separate your name.  But calling `split` on your name didn' return a string - the `split()` method actually returns a list.  A `list` in Python is a collection of objects.  You create a list with a pair of brackets `[ ]` and by separating a list of items:"
   ]
  },
  {
   "cell_type": "code",
   "execution_count": 20,
   "metadata": {},
   "outputs": [
    {
     "data": {
      "text/plain": [
       "['apple', 'banana', 'cumquat', 'date']"
      ]
     },
     "execution_count": 20,
     "metadata": {},
     "output_type": "execute_result"
    }
   ],
   "source": [
    "my_list = ['apple', 'banana', 'cumquat', 'date']\n",
    "my_list"
   ]
  },
  {
   "cell_type": "markdown",
   "metadata": {},
   "source": [
    "You can use indexing and slicing operations on a list just as you would a string:"
   ]
  },
  {
   "cell_type": "code",
   "execution_count": 21,
   "metadata": {},
   "outputs": [
    {
     "data": {
      "text/plain": [
       "'banana'"
      ]
     },
     "execution_count": 21,
     "metadata": {},
     "output_type": "execute_result"
    }
   ],
   "source": [
    "my_list[1]"
   ]
  },
  {
   "cell_type": "code",
   "execution_count": 22,
   "metadata": {},
   "outputs": [
    {
     "data": {
      "text/plain": [
       "['cumquat', 'date']"
      ]
     },
     "execution_count": 22,
     "metadata": {},
     "output_type": "execute_result"
    }
   ],
   "source": [
    "my_list[2:4]"
   ]
  },
  {
   "cell_type": "code",
   "execution_count": 23,
   "metadata": {},
   "outputs": [
    {
     "data": {
      "text/plain": [
       "['date', 'cumquat', 'banana', 'apple']"
      ]
     },
     "execution_count": 23,
     "metadata": {},
     "output_type": "execute_result"
    }
   ],
   "source": [
    "my_list[::-1]"
   ]
  },
  {
   "cell_type": "markdown",
   "metadata": {},
   "source": [
    "You can check if an item is in a list:"
   ]
  },
  {
   "cell_type": "code",
   "execution_count": 24,
   "metadata": {},
   "outputs": [
    {
     "data": {
      "text/plain": [
       "True"
      ]
     },
     "execution_count": 24,
     "metadata": {},
     "output_type": "execute_result"
    }
   ],
   "source": [
    "'apple' in my_list"
   ]
  },
  {
   "cell_type": "code",
   "execution_count": 25,
   "metadata": {},
   "outputs": [
    {
     "data": {
      "text/plain": [
       "False"
      ]
     },
     "execution_count": 25,
     "metadata": {},
     "output_type": "execute_result"
    }
   ],
   "source": [
    "'pineapple' in my_list"
   ]
  },
  {
   "cell_type": "markdown",
   "metadata": {},
   "source": [
    "You can add items to a list with `append`:"
   ]
  },
  {
   "cell_type": "code",
   "execution_count": 26,
   "metadata": {},
   "outputs": [
    {
     "data": {
      "text/plain": [
       "['apple', 'banana', 'cumquat', 'date', 'pineapple']"
      ]
     },
     "execution_count": 26,
     "metadata": {},
     "output_type": "execute_result"
    }
   ],
   "source": [
    "my_list.append('pineapple')\n",
    "my_list"
   ]
  },
  {
   "cell_type": "markdown",
   "metadata": {},
   "source": [
    "Lists can contain objects of different types:"
   ]
  },
  {
   "cell_type": "code",
   "execution_count": 27,
   "metadata": {},
   "outputs": [
    {
     "data": {
      "text/plain": [
       "['apple', 'banana', 'cumquat', 'date', 'pineapple', 1, 'Paul']"
      ]
     },
     "execution_count": 27,
     "metadata": {},
     "output_type": "execute_result"
    }
   ],
   "source": [
    "my_list.append(1)\n",
    "my_list.append('Paul')\n",
    "my_list"
   ]
  },
  {
   "cell_type": "markdown",
   "metadata": {},
   "source": [
    "Note that you can't add multiple items at a time with `append`:"
   ]
  },
  {
   "cell_type": "code",
   "execution_count": 28,
   "metadata": {},
   "outputs": [
    {
     "ename": "TypeError",
     "evalue": "append() takes exactly one argument (3 given)",
     "output_type": "error",
     "traceback": [
      "\u001b[0;31m---------------------------------------------------------------------------\u001b[0m",
      "\u001b[0;31mTypeError\u001b[0m                                 Traceback (most recent call last)",
      "\u001b[0;32m<ipython-input-28-cc873109f873>\u001b[0m in \u001b[0;36m<module>\u001b[0;34m()\u001b[0m\n\u001b[0;32m----> 1\u001b[0;31m \u001b[0mmy_list\u001b[0m\u001b[0;34m.\u001b[0m\u001b[0mappend\u001b[0m\u001b[0;34m(\u001b[0m\u001b[0;34m'chocolate chip'\u001b[0m\u001b[0;34m,\u001b[0m \u001b[0;34m'Macademia nut'\u001b[0m\u001b[0;34m,\u001b[0m \u001b[0;34m'oatmeal'\u001b[0m\u001b[0;34m)\u001b[0m\u001b[0;34m\u001b[0m\u001b[0m\n\u001b[0m",
      "\u001b[0;31mTypeError\u001b[0m: append() takes exactly one argument (3 given)"
     ]
    }
   ],
   "source": [
    "my_list.append('chocolate chip', 'Macademia nut', 'oatmeal')"
   ]
  },
  {
   "cell_type": "markdown",
   "metadata": {},
   "source": [
    "However, we can use the `extend` function to add all the elements of one list to another:"
   ]
  },
  {
   "cell_type": "code",
   "execution_count": 29,
   "metadata": {},
   "outputs": [
    {
     "data": {
      "text/plain": [
       "['apple',\n",
       " 'banana',\n",
       " 'cumquat',\n",
       " 'date',\n",
       " 'pineapple',\n",
       " 1,\n",
       " 'Paul',\n",
       " 'chocolate chip',\n",
       " 'Macademia nut',\n",
       " 'oatmeal']"
      ]
     },
     "execution_count": 29,
     "metadata": {},
     "output_type": "execute_result"
    }
   ],
   "source": [
    "my_list.extend(['chocolate chip', 'Macademia nut', 'oatmeal'])\n",
    "my_list"
   ]
  },
  {
   "cell_type": "markdown",
   "metadata": {},
   "source": [
    "You can remove items from the list in three different ways.  If you know the index and don't need the value, use `del`:"
   ]
  },
  {
   "cell_type": "code",
   "execution_count": 30,
   "metadata": {},
   "outputs": [
    {
     "data": {
      "text/plain": [
       "['apple',\n",
       " 'banana',\n",
       " 'cumquat',\n",
       " 'date',\n",
       " 'pineapple',\n",
       " 1,\n",
       " 'Paul',\n",
       " 'Macademia nut',\n",
       " 'oatmeal']"
      ]
     },
     "execution_count": 30,
     "metadata": {},
     "output_type": "execute_result"
    }
   ],
   "source": [
    "del my_list[7]\n",
    "my_list"
   ]
  },
  {
   "cell_type": "markdown",
   "metadata": {},
   "source": [
    "If you know the index and you need the value, use `pop()`:"
   ]
  },
  {
   "cell_type": "code",
   "execution_count": 31,
   "metadata": {},
   "outputs": [
    {
     "data": {
      "text/plain": [
       "'oatmeal'"
      ]
     },
     "execution_count": 31,
     "metadata": {},
     "output_type": "execute_result"
    }
   ],
   "source": [
    "my_list.pop(-1)"
   ]
  },
  {
   "cell_type": "code",
   "execution_count": 32,
   "metadata": {},
   "outputs": [
    {
     "data": {
      "text/plain": [
       "['apple', 'banana', 'cumquat', 'date', 'pineapple', 1, 'Paul', 'Macademia nut']"
      ]
     },
     "execution_count": 32,
     "metadata": {},
     "output_type": "execute_result"
    }
   ],
   "source": [
    "my_list"
   ]
  },
  {
   "cell_type": "markdown",
   "metadata": {},
   "source": [
    "Finally, if you just want to remove the first instance of an item, you can use `remove`:"
   ]
  },
  {
   "cell_type": "code",
   "execution_count": 33,
   "metadata": {},
   "outputs": [
    {
     "data": {
      "text/plain": [
       "['apple', 'banana', 'cumquat', 'date', 'pineapple', 1, 'Paul']"
      ]
     },
     "execution_count": 33,
     "metadata": {},
     "output_type": "execute_result"
    }
   ],
   "source": [
    "my_list.remove('Macademia nut')\n",
    "my_list"
   ]
  },
  {
   "cell_type": "markdown",
   "metadata": {},
   "source": [
    "#### Exercise 1.3\n",
    "\n",
    "Make a list called `fave_movies` of at least 2 of your favorite movies.\n",
    "\n",
    "### Section 1.4: Dictionaries\n",
    "\n",
    "Another fundamental Python data structure is the `dictionary`.  A dictionary is an collection of `key: value` pairs.  Just as you would look up the definition of a word in a real dictionary, you look up the value of a key in a Python dictionary.  Here's how you make a dictionary:"
   ]
  },
  {
   "cell_type": "code",
   "execution_count": 34,
   "metadata": {},
   "outputs": [
    {
     "data": {
      "text/plain": [
       "{'Britney Spears': 'Lucky',\n",
       " 'Backstreet Boys': 'Larger Than Life',\n",
       " 'Drake': 'HYFR',\n",
       " 'Jay Park': 'All I Wanna Do',\n",
       " 'Rihanna': 'Where Have You Been'}"
      ]
     },
     "execution_count": 34,
     "metadata": {},
     "output_type": "execute_result"
    }
   ],
   "source": [
    "best_songs = {\n",
    "    \"Britney Spears\": \"Lucky\",\n",
    "    \"Backstreet Boys\": \"Larger Than Life\",\n",
    "    \"Drake\": \"HYFR\",\n",
    "    \"Jay Park\": \"All I Wanna Do\",\n",
    "    \"Rihanna\": \"Where Have You Been\"    \n",
    "}\n",
    "best_songs"
   ]
  },
  {
   "cell_type": "markdown",
   "metadata": {},
   "source": [
    "You can \"look up\" the value of a key in a dictionary with `dictionary[key]`:"
   ]
  },
  {
   "cell_type": "code",
   "execution_count": 35,
   "metadata": {},
   "outputs": [
    {
     "data": {
      "text/plain": [
       "'HYFR'"
      ]
     },
     "execution_count": 35,
     "metadata": {},
     "output_type": "execute_result"
    }
   ],
   "source": [
    "best_songs['Drake']"
   ]
  },
  {
   "cell_type": "markdown",
   "metadata": {},
   "source": [
    "We can see if a key exists in a list:"
   ]
  },
  {
   "cell_type": "code",
   "execution_count": 36,
   "metadata": {},
   "outputs": [
    {
     "data": {
      "text/plain": [
       "True"
      ]
     },
     "execution_count": 36,
     "metadata": {},
     "output_type": "execute_result"
    }
   ],
   "source": [
    "\"Drake\" in best_songs"
   ]
  },
  {
   "cell_type": "code",
   "execution_count": 37,
   "metadata": {},
   "outputs": [
    {
     "data": {
      "text/plain": [
       "False"
      ]
     },
     "execution_count": 37,
     "metadata": {},
     "output_type": "execute_result"
    }
   ],
   "source": [
    "\"Bruno Mars\" in best_songs"
   ]
  },
  {
   "cell_type": "markdown",
   "metadata": {},
   "source": [
    "Adding entries to a dictionary is simple - just tell the dictionary what the new value is with `dictionary['New key'] = value`:"
   ]
  },
  {
   "cell_type": "code",
   "execution_count": 38,
   "metadata": {},
   "outputs": [
    {
     "data": {
      "text/plain": [
       "{'Britney Spears': 'Lucky',\n",
       " 'Backstreet Boys': 'Larger Than Life',\n",
       " 'Drake': 'HYFR',\n",
       " 'Jay Park': 'All I Wanna Do',\n",
       " 'Rihanna': 'Where Have You Been',\n",
       " 'Bruno Mars': 'When I Was Your Man'}"
      ]
     },
     "execution_count": 38,
     "metadata": {},
     "output_type": "execute_result"
    }
   ],
   "source": [
    "best_songs[\"Bruno Mars\"] = \"When I Was Your Man\"\n",
    "best_songs"
   ]
  },
  {
   "cell_type": "markdown",
   "metadata": {},
   "source": [
    "Note that you can't access the elements of a dictionary as you would a list:"
   ]
  },
  {
   "cell_type": "code",
   "execution_count": 39,
   "metadata": {},
   "outputs": [
    {
     "ename": "KeyError",
     "evalue": "1",
     "output_type": "error",
     "traceback": [
      "\u001b[0;31m---------------------------------------------------------------------------\u001b[0m",
      "\u001b[0;31mKeyError\u001b[0m                                  Traceback (most recent call last)",
      "\u001b[0;32m<ipython-input-39-ff73b50e0b35>\u001b[0m in \u001b[0;36m<module>\u001b[0;34m()\u001b[0m\n\u001b[0;32m----> 1\u001b[0;31m \u001b[0mbest_songs\u001b[0m\u001b[0;34m[\u001b[0m\u001b[0;36m1\u001b[0m\u001b[0;34m]\u001b[0m\u001b[0;34m\u001b[0m\u001b[0m\n\u001b[0m",
      "\u001b[0;31mKeyError\u001b[0m: 1"
     ]
    }
   ],
   "source": [
    "best_songs[1]"
   ]
  },
  {
   "cell_type": "markdown",
   "metadata": {},
   "source": [
    "What do you think happened?\n",
    "\n",
    "Practice by making your own dictionary called `my_faves` which contains your favorite `song`, favorite `food`, favorite `person`, and favorite `movie`.\n",
    "\n",
    "Changing a dictionary entry is also simple - again, just tell the dictionary what you want the new value to be:"
   ]
  },
  {
   "cell_type": "code",
   "execution_count": 40,
   "metadata": {},
   "outputs": [
    {
     "data": {
      "text/plain": [
       "{'Britney Spears': 'Lucky',\n",
       " 'Backstreet Boys': 'Larger Than Life',\n",
       " 'Drake': 'HYFR',\n",
       " 'Jay Park': 'All I Wanna Do',\n",
       " 'Rihanna': 'Where Have You Been',\n",
       " 'Bruno Mars': \"That's What I Like\"}"
      ]
     },
     "execution_count": 40,
     "metadata": {},
     "output_type": "execute_result"
    }
   ],
   "source": [
    "best_songs[\"Bruno Mars\"] = \"That's What I Like\"\n",
    "best_songs"
   ]
  },
  {
   "cell_type": "markdown",
   "metadata": {},
   "source": [
    "Note that dictionary values can be pretty much anything.  For instance, you can have a list for a dictionary value:"
   ]
  },
  {
   "cell_type": "code",
   "execution_count": 41,
   "metadata": {},
   "outputs": [
    {
     "data": {
      "text/plain": [
       "{'Britney Spears': 'Lucky',\n",
       " 'Backstreet Boys': 'Larger Than Life',\n",
       " 'Drake': 'HYFR',\n",
       " 'Jay Park': 'All I Wanna Do',\n",
       " 'Rihanna': 'Where Have You Been',\n",
       " 'Bruno Mars': ['When I Was Your Man', \"That's What I Like\"]}"
      ]
     },
     "execution_count": 41,
     "metadata": {},
     "output_type": "execute_result"
    }
   ],
   "source": [
    "best_songs[\"Bruno Mars\"] = [\"When I Was Your Man\", \"That's What I Like\"]\n",
    "best_songs"
   ]
  },
  {
   "cell_type": "markdown",
   "metadata": {},
   "source": [
    "When you look up a dictionary value, you can interact with it as you normally would.  For example, if your dictionary value is a list, you can use indexing on it:"
   ]
  },
  {
   "cell_type": "code",
   "execution_count": 42,
   "metadata": {},
   "outputs": [
    {
     "data": {
      "text/plain": [
       "'When I Was Your Man'"
      ]
     },
     "execution_count": 42,
     "metadata": {},
     "output_type": "execute_result"
    }
   ],
   "source": [
    "best_songs['Bruno Mars'][0]"
   ]
  },
  {
   "cell_type": "markdown",
   "metadata": {},
   "source": [
    "You can even have another dictionary as a value:"
   ]
  },
  {
   "cell_type": "code",
   "execution_count": 43,
   "metadata": {},
   "outputs": [
    {
     "data": {
      "text/plain": [
       "\"That's What I Like\""
      ]
     },
     "execution_count": 43,
     "metadata": {},
     "output_type": "execute_result"
    }
   ],
   "source": [
    "best_songs[\"Bruno Mars\"] = {\"Wild\": \"That's What I Like\", \n",
    "                            \"Mild\": \"When I Was Your Man\"}\n",
    "best_songs['Bruno Mars']['Wild']"
   ]
  },
  {
   "cell_type": "markdown",
   "metadata": {},
   "source": [
    "We'll work more with dictionaries later.  For now, let's review what we know."
   ]
  },
  {
   "cell_type": "markdown",
   "metadata": {},
   "source": [
    "#### Exercise 1.4\n",
    "\n",
    "* Update the value of `my_faves['song']` by changing it to a *dictionary* containing your favorite happy and sad songs.\n",
    "* Update the value of `my_faves['food']` by changing it to the list `fave_movies` that you created earlier.\n",
    "* Find out how many keys are in `my_faves`.\n",
    "* Remove the last item in your list of favorite foods. "
   ]
  },
  {
   "cell_type": "markdown",
   "metadata": {},
   "source": [
    "### Section 1.5: Printing"
   ]
  },
  {
   "cell_type": "markdown",
   "metadata": {},
   "source": [
    "We can also print out things to the console:"
   ]
  },
  {
   "cell_type": "code",
   "execution_count": 44,
   "metadata": {},
   "outputs": [
    {
     "name": "stdout",
     "output_type": "stream",
     "text": [
      "Hey, man, sup?\n"
     ]
    }
   ],
   "source": [
    "print(\"Hey, man, sup?\")"
   ]
  },
  {
   "cell_type": "markdown",
   "metadata": {},
   "source": [
    "Notice that different types of objects have different outputs when you pass them to `print`:"
   ]
  },
  {
   "cell_type": "code",
   "execution_count": 45,
   "metadata": {},
   "outputs": [
    {
     "name": "stdout",
     "output_type": "stream",
     "text": [
      "['apple', 'banana', 'cumquat', 'date', 'pineapple', 1, 'Paul']\n"
     ]
    }
   ],
   "source": [
    "print(my_list)"
   ]
  },
  {
   "cell_type": "code",
   "execution_count": 46,
   "metadata": {},
   "outputs": [
    {
     "name": "stdout",
     "output_type": "stream",
     "text": [
      "{'Britney Spears': 'Lucky', 'Backstreet Boys': 'Larger Than Life', 'Drake': 'HYFR', 'Jay Park': 'All I Wanna Do', 'Rihanna': 'Where Have You Been', 'Bruno Mars': {'Wild': \"That's What I Like\", 'Mild': 'When I Was Your Man'}}\n"
     ]
    }
   ],
   "source": [
    "print(best_songs)"
   ]
  },
  {
   "cell_type": "markdown",
   "metadata": {},
   "source": [
    "We can mix and match arguments to the `print` function:"
   ]
  },
  {
   "cell_type": "code",
   "execution_count": 47,
   "metadata": {},
   "outputs": [
    {
     "name": "stdout",
     "output_type": "stream",
     "text": [
      "My favorite prime numbers are 13 and 15 .\n"
     ]
    }
   ],
   "source": [
    "fav_prime_1 = 13\n",
    "fav_prime_2 = 15\n",
    "print(\"My favorite prime numbers are\", fav_prime_1, \"and\", fav_prime_2, \".\")"
   ]
  },
  {
   "cell_type": "markdown",
   "metadata": {},
   "source": [
    "The space at the end is annoying, huh?  By default, Python 3 will add a space between each of the arguments that you pass to `print`.  You can override this by doing:"
   ]
  },
  {
   "cell_type": "code",
   "execution_count": 48,
   "metadata": {},
   "outputs": [
    {
     "name": "stdout",
     "output_type": "stream",
     "text": [
      "My favorite prime numbers are 13 and 15.\n"
     ]
    }
   ],
   "source": [
    "print(\"My favorite prime numbers are \", fav_prime_1, \" and \", fav_prime_2, \".\", sep = \"\")"
   ]
  },
  {
   "cell_type": "markdown",
   "metadata": {},
   "source": [
    "The `sep = \"\"` argument tells `print` that you don't want any separation between the other arguments when they're printed out.  It's kind of annoying having to mind the spaces and the `sep` argument, so we're going to move on to the `string.format` function.  \n",
    "\n",
    "Let's start with an example:"
   ]
  },
  {
   "cell_type": "code",
   "execution_count": 49,
   "metadata": {},
   "outputs": [
    {
     "name": "stdout",
     "output_type": "stream",
     "text": [
      "My favorite prime numbers are 13 and 15.\n"
     ]
    }
   ],
   "source": [
    "print(\"My favorite prime numbers are {} and {}.\".format(\n",
    "    fav_prime_1, fav_prime_2))"
   ]
  },
  {
   "cell_type": "markdown",
   "metadata": {},
   "source": [
    "The `string.format` function takes arguments that you supply and inserts them into the string at the placeholder `{}` curly braces.  As you can see, this gives you much more control over the output of a print statement.  It's usefulness isn't apparent here, but it will be invaluable when you do complicated outputs or when you're working with variables.  For example..."
   ]
  },
  {
   "cell_type": "code",
   "execution_count": 50,
   "metadata": {},
   "outputs": [
    {
     "name": "stdout",
     "output_type": "stream",
     "text": [
      "Dude, Bruno Mars?  That's What I Like?  Nice!\n"
     ]
    }
   ],
   "source": [
    "print(\"Dude, Bruno Mars?  {}?  Nice!\".format(\n",
    "    best_songs['Bruno Mars']['Wild']))"
   ]
  },
  {
   "cell_type": "code",
   "execution_count": 51,
   "metadata": {},
   "outputs": [
    {
     "name": "stdout",
     "output_type": "stream",
     "text": [
      "Dude, Bruno Mars?  Runaway Baby?  Nice!\n"
     ]
    }
   ],
   "source": [
    "best_songs['Bruno Mars']['Wild'] = 'Runaway Baby'\n",
    "print(\"Dude, Bruno Mars?  {}?  Nice!\".format(\n",
    "    best_songs['Bruno Mars']['Wild']))"
   ]
  },
  {
   "cell_type": "markdown",
   "metadata": {},
   "source": [
    "Time to practice!\n",
    "\n",
    "#### Exercise 1.5\n",
    "\n",
    "Use string formatting to print the following sentences with the appropriate values filled in from `my_faves`:\n",
    "\n",
    "* \"My favorite happy song is ... and my favorite sad song is ...\"\n",
    "* \"I just want to go home, watch ... , and eat ...\"\n",
    "\n",
    "[Previous Section: Introduction](P3Bootcamp2018-00.ipynb)<br>\n",
    "[Next section: Control Flow](P3Bootcamp2018-02.ipynb)"
   ]
  }
 ],
 "metadata": {
  "kernelspec": {
   "display_name": "Python 3",
   "language": "python",
   "name": "python3"
  },
  "language_info": {
   "codemirror_mode": {
    "name": "ipython",
    "version": 3
   },
   "file_extension": ".py",
   "mimetype": "text/x-python",
   "name": "python",
   "nbconvert_exporter": "python",
   "pygments_lexer": "ipython3",
   "version": "3.6.5"
  }
 },
 "nbformat": 4,
 "nbformat_minor": 2
}
