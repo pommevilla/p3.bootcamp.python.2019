{
 "cells": [
  {
   "cell_type": "markdown",
   "metadata": {},
   "source": [
    "# Introduction to Python\n"
   ]
  },
  {
   "cell_type": "markdown",
   "metadata": {},
   "source": [
    "## Section 0: Introductions\n",
    "\n",
    "This is the *Introduction to Python section* portion of the Programming Bootcamp hosted by the [Predictive Plant Phenomics (P3) NRT program][p3-landing] on August 7-10, 2018.  These workshops are intended as a gentle introduction for those who have little to no experience in R, Python, and UNIX.  There are three parts to this workshop:\n",
    "\n",
    "* [*Introduction to R*][intro-to-R] taught by [Paul Villanueva][paul-github]. \n",
    "* [*Introduction to Python*][intro-to-python] (this page) taught by [Paul Villanueva][paul-github]. \n",
    "* [*Introduction to UNIX*][intro-to-unix] taught by [Shane Dooley][shane-github].\n",
    "* [*Data applications*][data-app-1] taught by [Paul Villanueva][paul-github].\n",
    "\n",
    "\n",
    "\n",
    "[p3-landing]: https://www.predictivephenomicsinplants.iastate.edu/\n",
    "[intro-to-r]: https://pommevilla.github.io/p3.bootcamp.r.2019/ \n",
    "[intro-to-python]: https://nbviewer.jupyter.org/github/pommevilla/p3.bootcamp.python.2019/blob/master/lessons/P3Bootcamp2019-00.ipynb\n",
    "[intro-to-unix]: https://github.com/skDooley/shell_tutorial\n",
    "[paul-github]: https://github.com/pommevilla\n",
    "[shane-github]: https://github.com/skDooley\n",
    "[data-app-1]: https://github.com/pommevilla/p3.bootcamp.da1.2019\n",
    "\n",
    "## Section 0.1: About This Workshop\n",
    "\n",
    "This workshop is broken up into 6 parts:\n",
    "\n",
    "* [Introduction](P3Bootcamp2019-00.ipynb) \n",
    "* [Basic Python](P3Bootcamp2019-01.ipynb)\n",
    "* [Control Flow](P3Bootcamp2019-02.ipynb)\n",
    "* [File I/O](P3Bootcamp2019-03.ipynb)\n",
    "* [Functions](P3Bootcamp2019-04.ipynb)\n",
    "* [Next Steps](P3Bootcamp2019-05.ipynb)\n",
    "\n",
    "\n",
    "## Section 0.2: Spyder\n",
    "\n",
    "Open up Anaconda and launch Spyder.  Spyder is an integrated development environment, or IDE.  An IDE is a program with tools to help you with coding.  When you open Spyder, You will see a screen like this:"
   ]
  },
  {
   "cell_type": "markdown",
   "metadata": {},
   "source": [
    "![alt text](images/spyder-console.1.png)"
   ]
  },
  {
   "cell_type": "markdown",
   "metadata": {},
   "source": [
    "The Spyder IDE is broken up into 3 panes:\n",
    "\n",
    "* **Pane 1** is the **editor**.  You can edit files in here and run them by clicking the green play button right above the pane.  The most basic use for the editor is to store lines of code you've written so that you can rerun them whenever you want.  Eventually, we will write programs and modules.\n",
    "* **Pane 2** contains the **variable explorer** and **file explorer**.  The **variable explorer** lets you see the values of variables at a glance.  The **file explorer** is a basic file navigation system.  Click the tabs at the bottom of this pane to switch between the two.\n",
    "* **Pane 3** contains the **iPython console** and the **history log**.  The **iPython console** (referred to as the **console** from here on) is an interactive coding environment that you can run commands in.  The **history log** is a record of the last commands you entered.  Click the tabs at the bottom of this pane to switch between the two.  \n",
    "\n",
    "We will be using all 3 panes pretty extensively.  In the next section, we'll begin messing around with the IDE to make ourselves comfortable.\n",
    "\n",
    "[Next Section: Python Basics](P3Bootcamp2019-01.ipynb)\n",
    "\n"
   ]
  }
 ],
 "metadata": {
  "kernelspec": {
   "display_name": "Python 3",
   "language": "python",
   "name": "python3"
  },
  "language_info": {
   "codemirror_mode": {
    "name": "ipython",
    "version": 3
   },
   "file_extension": ".py",
   "mimetype": "text/x-python",
   "name": "python",
   "nbconvert_exporter": "python",
   "pygments_lexer": "ipython3",
   "version": "3.7.3"
  }
 },
 "nbformat": 4,
 "nbformat_minor": 2
}
