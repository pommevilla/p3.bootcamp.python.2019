{
 "cells": [
  {
   "cell_type": "markdown",
   "metadata": {},
   "source": [
    "# Introduction to Python"
   ]
  },
  {
   "cell_type": "markdown",
   "metadata": {},
   "source": [
    "# Section 2: Control Flow "
   ]
  },
  {
   "cell_type": "markdown",
   "metadata": {},
   "source": [
    "[**Control flow**][cflow-wiki] refers to how the statements in a program *control* how the program *flows* (yeah....).  A basic example would be if you are looking for sequences shorter than 200nb in a FASTA file so that you can save them in another file.  In order to do this, you would:\n",
    "\n",
    "* Read through each sequence in the file\n",
    "* Determine if the sequence is shorter than 200nb.  If it is, write it to another file.\n",
    "\n",
    "Each of these are considered *control statements*, the first being an example of a loop and the second a conditional.  We'll start with `for` loops.\n",
    "\n",
    "[cflow-wiki]: https://en.wikipedia.org/wiki/Control_flow"
   ]
  },
  {
   "cell_type": "markdown",
   "metadata": {},
   "source": [
    "### Section 2.1: For Loops\n",
    "\n",
    "So far, we've seen how to access individual elements of a container and do stuff with them.  How do we access all the elements in the container at once?  A `for` loop interates over all of the items inside a container so that you can do something with them.  For example, suppose we have a list:"
   ]
  },
  {
   "cell_type": "code",
   "execution_count": 1,
   "metadata": {},
   "outputs": [],
   "source": [
    "animals = ['cow', 'chicken', 'fish', 'crawfish']"
   ]
  },
  {
   "cell_type": "markdown",
   "metadata": {},
   "source": [
    "We can print out each item in the following way:"
   ]
  },
  {
   "cell_type": "code",
   "execution_count": 2,
   "metadata": {},
   "outputs": [
    {
     "name": "stdout",
     "output_type": "stream",
     "text": [
      "cow\n",
      "chicken\n",
      "fish\n",
      "crawfish\n"
     ]
    }
   ],
   "source": [
    "for animal in animals:\n",
    "    print(animal)"
   ]
  },
  {
   "cell_type": "markdown",
   "metadata": {},
   "source": [
    "Note the indentation on the line after the `for` loop - this indentation level indicates a code block.  Also note the colon after the declaration of the `for` loop.  The `animal` after the `for` is just a dummy variable - you can name that variable anything you'd like.  \n",
    "\n",
    "Python is smart enough to know how to iterate over pretty much anything that can be represented as a list.  For example:"
   ]
  },
  {
   "cell_type": "code",
   "execution_count": 3,
   "metadata": {},
   "outputs": [
    {
     "name": "stdout",
     "output_type": "stream",
     "text": [
      "A\n",
      "p\n",
      "p\n",
      "o\n",
      "l\n",
      "l\n",
      "i\n",
      "o\n",
      "n\n"
     ]
    }
   ],
   "source": [
    "my_almost_name = 'Appollion'\n",
    "for letter in my_almost_name:\n",
    "    print(letter)"
   ]
  },
  {
   "cell_type": "markdown",
   "metadata": {},
   "source": [
    "You can also use indexing to iterate with a `for` loop.  To do this, use the `range` function.  When you enter `range(n)`, you get a `range` object that Python knows how to iterate over.  We can reproduce our previous examples using `range`:"
   ]
  },
  {
   "cell_type": "code",
   "execution_count": 4,
   "metadata": {},
   "outputs": [
    {
     "name": "stdout",
     "output_type": "stream",
     "text": [
      "cow\n",
      "chicken\n",
      "fish\n",
      "crawfish\n"
     ]
    }
   ],
   "source": [
    "for i in range(len(animals)):\n",
    "    print(animals[i])"
   ]
  },
  {
   "cell_type": "code",
   "execution_count": 5,
   "metadata": {},
   "outputs": [
    {
     "name": "stdout",
     "output_type": "stream",
     "text": [
      "A\n",
      "p\n",
      "p\n",
      "o\n",
      "l\n",
      "l\n",
      "i\n",
      "o\n",
      "n\n"
     ]
    }
   ],
   "source": [
    "for i in range(len(my_almost_name)):\n",
    "    print(my_almost_name[i])"
   ]
  },
  {
   "cell_type": "markdown",
   "metadata": {},
   "source": [
    "For the most part, you'll more likely be using the `for thing in container_of_things` syntax, but there are cases where going by index is useful:"
   ]
  },
  {
   "cell_type": "code",
   "execution_count": 6,
   "metadata": {},
   "outputs": [
    {
     "name": "stdout",
     "output_type": "stream",
     "text": [
      "My favorite food made from cow is hamburger.\n",
      "My favorite food made from chicken is chicken nuggets.\n",
      "My favorite food made from fish is lemon salmon thing.\n",
      "My favorite food made from crawfish is crawfish.\n"
     ]
    }
   ],
   "source": [
    "foods = ['hamburger', 'chicken nuggets', 'lemon salmon thing', 'crawfish']\n",
    "for i in range(len(animals)):\n",
    "    print(\"My favorite food made from {} is {}.\".format(\n",
    "    animals[i], foods[i]))"
   ]
  },
  {
   "cell_type": "markdown",
   "metadata": {},
   "source": [
    "We can also use a `for` loop to iterate over dictionaries and retrieve their entries.  The basic syntax is:\n",
    "\n",
    "```python\n",
    "    for key in dictionary:\n",
    "        # do something with dictionary[key]\n",
    "```"
   ]
  },
  {
   "cell_type": "code",
   "execution_count": 7,
   "metadata": {},
   "outputs": [
    {
     "name": "stdout",
     "output_type": "stream",
     "text": [
      "Britney Spears Lucky\n",
      "Bruno Mars When I Was Your Man\n",
      "Backstreet Boys Larger Than Life\n",
      "Drake HYFR\n",
      "Jay Park All I Wanna Do\n",
      "Nero Into the Night\n",
      "Rihanna Where Have You Been\n",
      "The Weeknd What You Need\n"
     ]
    }
   ],
   "source": [
    "best_songs = {\n",
    "    \"Britney Spears\": \"Lucky\",\n",
    "    \"Bruno Mars\": \"When I Was Your Man\",\n",
    "    \"Backstreet Boys\": \"Larger Than Life\",\n",
    "    \"Drake\": \"HYFR\",\n",
    "    \"Jay Park\": \"All I Wanna Do\",\n",
    "    \"Nero\": \"Into the Night\",\n",
    "    \"Rihanna\": \"Where Have You Been\",\n",
    "    \"The Weeknd\": \"What You Need\"\n",
    "}\n",
    "\n",
    "for artist in best_songs:\n",
    "    print(artist, best_songs[artist])"
   ]
  },
  {
   "cell_type": "markdown",
   "metadata": {},
   "source": [
    "We can also use `for` loops to help us modify values."
   ]
  },
  {
   "cell_type": "code",
   "execution_count": 8,
   "metadata": {},
   "outputs": [
    {
     "name": "stdout",
     "output_type": "stream",
     "text": [
      "2\n",
      "4\n",
      "6\n",
      "8\n",
      "10\n",
      "12\n",
      "14\n",
      "16\n",
      "18\n",
      "20\n"
     ]
    }
   ],
   "source": [
    "int_list = [1, 2, 3, 4, 5, 6, 7, 8, 9, 10]\n",
    "for num in int_list:\n",
    "    print(num * 2)"
   ]
  },
  {
   "cell_type": "markdown",
   "metadata": {},
   "source": [
    "#### Exercise 2.1\n",
    "\n",
    "* Create an empty list named `triples` by entering `triples = []`.  Iterate over `int_list`, multiply each of the integers by 3, and save them to `triples`.\n",
    "* Iterate over `best_songs` again and use string formatting to output \"The best song by ... is ...\".\n",
    "* Iterate over both `int_list` and `triples` and use string formatting to output \"... times 3 is ...\"\n",
    "* Repeat the above by only iterating over `int_list`."
   ]
  },
  {
   "cell_type": "markdown",
   "metadata": {},
   "source": [
    "### Section 2.2: Boolean and if-else statements\n",
    "\n",
    "Boolean statements are statements that are either `True` or `False`.  Our first run-in with boolean statements was the `in` statement back when we learned about lists:"
   ]
  },
  {
   "cell_type": "code",
   "execution_count": 9,
   "metadata": {},
   "outputs": [
    {
     "data": {
      "text/plain": [
       "True"
      ]
     },
     "execution_count": 9,
     "metadata": {},
     "output_type": "execute_result"
    }
   ],
   "source": [
    "'hamburger' in foods"
   ]
  },
  {
   "cell_type": "code",
   "execution_count": 10,
   "metadata": {},
   "outputs": [
    {
     "data": {
      "text/plain": [
       "False"
      ]
     },
     "execution_count": 10,
     "metadata": {},
     "output_type": "execute_result"
    }
   ],
   "source": [
    "'hot dog' in foods"
   ]
  },
  {
   "cell_type": "markdown",
   "metadata": {},
   "source": [
    "There are also the `and` and `or` binary operators.  The boolean `and` returns `True` if both arguments are `True` and `False` otherwise.  "
   ]
  },
  {
   "cell_type": "code",
   "execution_count": 11,
   "metadata": {},
   "outputs": [
    {
     "data": {
      "text/plain": [
       "True"
      ]
     },
     "execution_count": 11,
     "metadata": {},
     "output_type": "execute_result"
    }
   ],
   "source": [
    "3 > 2 and -5 < 2"
   ]
  },
  {
   "cell_type": "code",
   "execution_count": 12,
   "metadata": {},
   "outputs": [
    {
     "data": {
      "text/plain": [
       "True"
      ]
     },
     "execution_count": 12,
     "metadata": {},
     "output_type": "execute_result"
    }
   ],
   "source": [
    "1 * 1 == 1 and \"Britney Spears\" in best_songs"
   ]
  },
  {
   "cell_type": "code",
   "execution_count": 13,
   "metadata": {},
   "outputs": [
    {
     "data": {
      "text/plain": [
       "False"
      ]
     },
     "execution_count": 13,
     "metadata": {},
     "output_type": "execute_result"
    }
   ],
   "source": [
    "1 * 1 == 1 and \"Bloc Party\" in best_songs"
   ]
  },
  {
   "cell_type": "markdown",
   "metadata": {},
   "source": [
    "The boolean `or` returns `True` if either one or both of its arguments are `True` and `False` otherwise."
   ]
  },
  {
   "cell_type": "code",
   "execution_count": 14,
   "metadata": {},
   "outputs": [
    {
     "data": {
      "text/plain": [
       "True"
      ]
     },
     "execution_count": 14,
     "metadata": {},
     "output_type": "execute_result"
    }
   ],
   "source": [
    "2000 % 40 == 1 or 1 < 3"
   ]
  },
  {
   "cell_type": "code",
   "execution_count": 15,
   "metadata": {},
   "outputs": [
    {
     "data": {
      "text/plain": [
       "False"
      ]
     },
     "execution_count": 15,
     "metadata": {},
     "output_type": "execute_result"
    }
   ],
   "source": [
    "\"Lana Del Ray\" in best_songs or best_songs[\"Drake\"] == \"God's Plan\""
   ]
  },
  {
   "cell_type": "markdown",
   "metadata": {},
   "source": [
    "You can negate a boolean expression with the `not` boolean operator - if a `statement` would evaluate to `True`, then `not statement` would evaluate to `False`."
   ]
  },
  {
   "cell_type": "code",
   "execution_count": 16,
   "metadata": {},
   "outputs": [
    {
     "data": {
      "text/plain": [
       "False"
      ]
     },
     "execution_count": 16,
     "metadata": {},
     "output_type": "execute_result"
    }
   ],
   "source": [
    "not (2 % 2 == 0)"
   ]
  },
  {
   "cell_type": "code",
   "execution_count": 17,
   "metadata": {},
   "outputs": [
    {
     "data": {
      "text/plain": [
       "False"
      ]
     },
     "execution_count": 17,
     "metadata": {},
     "output_type": "execute_result"
    }
   ],
   "source": [
    "\"Drake\" not in best_songs"
   ]
  },
  {
   "cell_type": "code",
   "execution_count": 18,
   "metadata": {},
   "outputs": [
    {
     "data": {
      "text/plain": [
       "True"
      ]
     },
     "execution_count": 18,
     "metadata": {},
     "output_type": "execute_result"
    }
   ],
   "source": [
    "not(\"Lana Del Ray\" in best_songs or best_songs[\"Drake\"] == \"God's Plan\")"
   ]
  },
  {
   "cell_type": "markdown",
   "metadata": {},
   "source": [
    "Be careful where you put the `not` operator, though.  The above statement is *not* logically equivalent to the following, even though they both evaluate to `True` (see [De Morgan's Laws][dml] for an explanation):\n",
    "\n",
    "[dml]: https://en.wikipedia.org/wiki/De_Morgan%27s_laws"
   ]
  },
  {
   "cell_type": "code",
   "execution_count": 19,
   "metadata": {},
   "outputs": [
    {
     "data": {
      "text/plain": [
       "True"
      ]
     },
     "execution_count": 19,
     "metadata": {},
     "output_type": "execute_result"
    }
   ],
   "source": [
    "\"Lana Del Ray\" not in best_songs or not(best_songs[\"Drake\"] == \"God's Plan\")"
   ]
  },
  {
   "cell_type": "markdown",
   "metadata": {},
   "source": [
    "The other boolean operators are `==`, `>`, `=>`, `<`, `<=`, and `!`.  Some examples:"
   ]
  },
  {
   "cell_type": "code",
   "execution_count": 20,
   "metadata": {},
   "outputs": [
    {
     "data": {
      "text/plain": [
       "False"
      ]
     },
     "execution_count": 20,
     "metadata": {},
     "output_type": "execute_result"
    }
   ],
   "source": [
    "a = 3\n",
    "b = 4\n",
    "a == b"
   ]
  },
  {
   "cell_type": "code",
   "execution_count": 21,
   "metadata": {},
   "outputs": [
    {
     "data": {
      "text/plain": [
       "False"
      ]
     },
     "execution_count": 21,
     "metadata": {},
     "output_type": "execute_result"
    }
   ],
   "source": [
    "a > b"
   ]
  },
  {
   "cell_type": "code",
   "execution_count": 22,
   "metadata": {},
   "outputs": [
    {
     "data": {
      "text/plain": [
       "True"
      ]
     },
     "execution_count": 22,
     "metadata": {},
     "output_type": "execute_result"
    }
   ],
   "source": [
    "a < b"
   ]
  },
  {
   "cell_type": "code",
   "execution_count": 23,
   "metadata": {},
   "outputs": [
    {
     "data": {
      "text/plain": [
       "True"
      ]
     },
     "execution_count": 23,
     "metadata": {},
     "output_type": "execute_result"
    }
   ],
   "source": [
    "a != b"
   ]
  },
  {
   "cell_type": "markdown",
   "metadata": {},
   "source": [
    "An `if` statement tests a boolean statement - if the boolean statement evaluates to `True`, then it will enter a code block:"
   ]
  },
  {
   "cell_type": "code",
   "execution_count": 24,
   "metadata": {},
   "outputs": [
    {
     "name": "stdout",
     "output_type": "stream",
     "text": [
      "Found it!\n"
     ]
    }
   ],
   "source": [
    "if 'hamburger' in foods:\n",
    "    print(\"Found it!\")"
   ]
  },
  {
   "cell_type": "markdown",
   "metadata": {},
   "source": [
    "You can also put an `else` block to handle cases where it wasn't found."
   ]
  },
  {
   "cell_type": "code",
   "execution_count": 25,
   "metadata": {},
   "outputs": [
    {
     "name": "stdout",
     "output_type": "stream",
     "text": [
      "Aw man...\n"
     ]
    }
   ],
   "source": [
    "if 'funnel cake' in foods:\n",
    "    print(\"Found it!\")\n",
    "else:\n",
    "    print(\"Aw man...\")"
   ]
  },
  {
   "cell_type": "markdown",
   "metadata": {},
   "source": [
    "And we can combine `if` statements with `for` loops:"
   ]
  },
  {
   "cell_type": "code",
   "execution_count": 26,
   "metadata": {},
   "outputs": [
    {
     "name": "stdout",
     "output_type": "stream",
     "text": [
      "Couldn't find anything for A$AP Rocky...\n",
      "Couldn't find anything for Block Party...\n",
      "My favorite song by Bruno Mars is When I Was Your Man.\n",
      "My favorite song by Jay Park is All I Wanna Do.\n",
      "Couldn't find anything for Lana Del Rey...\n",
      "My favorite song by Nero is Into the Night.\n"
     ]
    }
   ],
   "source": [
    "favorite_artists = ['A$AP Rocky', 'Block Party', 'Bruno Mars', 'Jay Park', 'Lana Del Rey', 'Nero']\n",
    "for artist in favorite_artists:\n",
    "    if artist not in best_songs:\n",
    "        print(\"Couldn't find anything for {}...\".format (\n",
    "        artist))\n",
    "    else:\n",
    "        print(\"My favorite song by {} is {}.\".format(\n",
    "        artist, best_songs[artist]))"
   ]
  },
  {
   "cell_type": "markdown",
   "metadata": {},
   "source": [
    "We will run into other boolean statements shortly.  Let's practice what we've learned so far."
   ]
  },
  {
   "cell_type": "markdown",
   "metadata": {},
   "source": [
    "#### Exercise 2.2\n",
    "\n",
    "* In **Exercise 1.1**, we figured out how to tell if a number was odd.  How can we turn this into a boolean expression?\n",
    "* Iterate over `int_list` using an index-based `for` loop and print out *only* the odd numbers.  Repeat for the even numbers.  Can you do this in one line using slicing?\n",
    "\n",
    "[Previous Section: Python Basics](P3Bootcamp2018-01.ipynb)<br>\n",
    "[Next Section: File I/O](P3Bootcamp2018-03.ipynb)"
   ]
  }
 ],
 "metadata": {
  "kernelspec": {
   "display_name": "Python 3",
   "language": "python",
   "name": "python3"
  },
  "language_info": {
   "codemirror_mode": {
    "name": "ipython",
    "version": 3
   },
   "file_extension": ".py",
   "mimetype": "text/x-python",
   "name": "python",
   "nbconvert_exporter": "python",
   "pygments_lexer": "ipython3",
   "version": "3.6.5"
  }
 },
 "nbformat": 4,
 "nbformat_minor": 2
}
