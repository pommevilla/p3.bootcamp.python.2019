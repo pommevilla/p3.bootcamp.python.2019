{
 "cells": [
  {
   "cell_type": "markdown",
   "metadata": {},
   "source": [
    "# Introduction to Python"
   ]
  },
  {
   "cell_type": "markdown",
   "metadata": {},
   "source": [
    "## Predictive Plant Phenomics Software Bootcamp 2018"
   ]
  },
  {
   "cell_type": "markdown",
   "metadata": {},
   "source": [
    "## Section 5: Now What?"
   ]
  },
  {
   "cell_type": "markdown",
   "metadata": {},
   "source": [
    "By now, you should be comfortable enough to begin learning on your own.  Don't be discouraged if you can't remember everything or if you have to look up every problem you encounter - that is just how programming is.  I spend most of my day looking up stuff on [Stack Overflow][so].  Take your time, be patient, and you will get the hang of it.\n",
    "\n",
    "Here are a few tutorials for you to continue learning with:\n",
    "\n",
    "* [Automate the Boring Stuff with Python][automate]: There's only so much stuff you can learn in a single workshop, so I recommend taking the time to work through another Python tutorial to help solidify your knowledge.  This is my favorite introductory Python tutorial, but there are a ton of other introductory Python materials available on the internet.  The [Hitchhiker's Guide to Python][hhgtp] and the [official Python tutorial][opt] are two other good ones.\n",
    "* [BCBGSO 2018 Adanced Python Workshop][bcb-advanced-python]: This is a workshop I taught in the spring semester of this year about some moderately advanced Python stuff.  You'll find stuff about list comprehensions, string formatting, more file practice, practice writing scripts, and more practice with modules.\n",
    "* [The Official Biopython Tutorial Book][biopython-official-tut]: This tutorial was just updated in June of this year, so everything is up-to-date now.  Biopython is a collection of libraries designed to make interacting with (among other things) sequences and databases easier.  You can install Biopython through the Anaconda client you installed on your computer.\n",
    "* [Get started with Jupyter Notebooks][jupyter-official-tut]: Effectively comunicating your research is arguably as important as the research itself.  Jupyter Notebooks allows you to create and share documents that contain text and code (pretty much exactly like an RMarkdown file).  Jupyter is part of the standard Anaconda distribution, so you should be able to launch it just like you did Spyder.  [Here][jupyter-alt-1] is another tutorial that you may find useful.  An example of a Jupyter notebook is this tutorial series.   \n",
    "* [Start learning Github][github-offocial-tut]: If you've programmed or talked to a programmer before, you've probably heard of Git and Github.  Git is a distributed version control system - instead of having only the latest version of your code in one place, Git makes it so that every copy of your work is also a complete history of your work.  Github is an online repository that works with Git and allows you to store all of your work online.  This way, you don't have to worry about [having your work stolen with your belongings][why-use-git] because your latest version of code - as well as every change you've ever made to it - is safely stored online and accessible whenever and wherever you need it.  In addition, Github allows you to host Jupyter Notebooks and RMarkdown files so that you can easily share them online.  Git also allows you to collaborate with other people on a project.  Learning how to effectively use Git and Github takes a lot of time, but the sooner you do it, the better off you'll be.  There are a ton of other tutorials online about it, so keep looking around until you find one that makes sense to you. Udacity's [Version Control with Git][git-udacity-course-1] and [Github and Collaboration][git-udacity-course-2] were especially helpful to me.\n",
    "\n",
    "And of course, you're more than welcome to email me with programming questions you might have!\n",
    "\n",
    "[so]: https://stackoverflow.com/\n",
    "[automate]: https://automatetheboringstuff.com/\n",
    "[hhgtp]: https://docs.python-guide.org/\n",
    "[opt]: https://docs.python.org/3/tutorial/\n",
    "[bcb-advanced-python]: https://github.com/pommevilla/bcb.advanced.python.2018\n",
    "[biopython-official-tut]: http://biopython.org/DIST/docs/tutorial/Tutorial.pdf\n",
    "[jupyter-official-tut]: http://jupyter-notebook-beginner-guide.readthedocs.io/en/latest/execute.html\n",
    "[jupyter-alt-1]: https://medium.com/codingthesmartway-com-blog/getting-started-with-jupyter-notebook-for-python-4e7082bd5d46\n",
    "[github-offocial-tut]: https://guides.github.com/activities/hello-world/\n",
    "[why-use-git]: https://www.cbc.ca/news/canada/newfoundland-labrador/laptop-stolen-masters-thesis-1.3480869\n",
    "[git-udacity-course-1]: https://classroom.udacity.com/courses/ud123/\n",
    "[git-udacity-course-2]: https://classroom.udacity.com/courses/ud456\n",
    "\n",
    "## Good luck!\n",
    "\n",
    "[Previous Section: Functions](P3Bootcamp2018-04.ipynb)"
   ]
  }
 ],
 "metadata": {
  "kernelspec": {
   "display_name": "Python 3",
   "language": "python",
   "name": "python3"
  },
  "language_info": {
   "codemirror_mode": {
    "name": "ipython",
    "version": 3
   },
   "file_extension": ".py",
   "mimetype": "text/x-python",
   "name": "python",
   "nbconvert_exporter": "python",
   "pygments_lexer": "ipython3",
   "version": "3.6.5"
  }
 },
 "nbformat": 4,
 "nbformat_minor": 2
}
